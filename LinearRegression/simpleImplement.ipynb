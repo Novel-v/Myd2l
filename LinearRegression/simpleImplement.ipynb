{
 "cells": [
  {
   "cell_type": "code",
   "execution_count": 1,
   "id": "5c3fe90a-60d1-4284-9bc9-cc403622f0f5",
   "metadata": {},
   "outputs": [],
   "source": [
    "import numpy as np\n",
    "import torch\n",
    "from torch.utils import data\n",
    "\n",
    "def synthetic_data(w, b, num_examples):\n",
    "    X = torch.normal(0, 1, (num_examples, len(w)))\n",
    "    y = torch.matmul(X, w) + b;\n",
    "    y += torch.normal(0, 0.01, y.shape)\n",
    "    return X, y.reshape((-1,1))\n",
    "\n",
    "true_w = torch.tensor([2, -3.4])\n",
    "true_b = 4.2\n",
    "features, labels = synthetic_data(true_w, true_b, 1000)"
   ]
  },
  {
   "cell_type": "code",
   "execution_count": 2,
   "id": "b4d52e48-6f08-481f-9bf9-1ddd4e678626",
   "metadata": {},
   "outputs": [
    {
     "data": {
      "text/plain": [
       "[tensor([[ 0.6845,  0.0609],\n",
       "         [ 2.4350, -0.1633],\n",
       "         [-1.8662,  0.0862],\n",
       "         [-0.6527, -0.0899],\n",
       "         [ 0.0196,  0.0349],\n",
       "         [-1.7706, -1.1209],\n",
       "         [-0.3024,  0.9982],\n",
       "         [-0.5248,  0.7205],\n",
       "         [-0.7435, -0.4364],\n",
       "         [-0.0389,  0.8940]]),\n",
       " tensor([[5.3503],\n",
       "         [9.6372],\n",
       "         [0.1784],\n",
       "         [3.2072],\n",
       "         [4.1292],\n",
       "         [4.4546],\n",
       "         [0.1932],\n",
       "         [0.6969],\n",
       "         [4.1902],\n",
       "         [1.0877]])]"
      ]
     },
     "execution_count": 2,
     "metadata": {},
     "output_type": "execute_result"
    }
   ],
   "source": [
    "def load_array(data_array, batch_size, flag_train=True):\n",
    "    data_set = data.TensorDataset(*data_array)\n",
    "    return data.DataLoader(dataset=data_set, batch_size=batch_size, shuffle=flag_train)\n",
    "\n",
    "batch_size = 10\n",
    "data_iter = load_array([features, labels], batch_size)\n",
    "\n",
    "next(iter(data_iter)) #  获取第一个批次数据"
   ]
  },
  {
   "cell_type": "code",
   "execution_count": 3,
   "id": "2b33334e-8314-47b1-88fe-cca6bacaf94d",
   "metadata": {},
   "outputs": [
    {
     "data": {
      "text/plain": [
       "(tensor([[0.0158, 0.0018]]), tensor([0.]))"
      ]
     },
     "execution_count": 3,
     "metadata": {},
     "output_type": "execute_result"
    }
   ],
   "source": [
    "from torch import nn\n",
    "net = nn.Sequential(nn.Linear(2,1))\n",
    "net[0].weight.data.normal_(0,0.01), net[0].bias.data.fill_(0)"
   ]
  },
  {
   "cell_type": "code",
   "execution_count": 4,
   "id": "cd9c11a7-c25d-4ca3-aa29-55337fc8cae2",
   "metadata": {},
   "outputs": [],
   "source": [
    "loss = nn.MSELoss()"
   ]
  },
  {
   "cell_type": "code",
   "execution_count": 5,
   "id": "ca99ea4b-04f1-45ff-aaa9-bc6343ff5cbd",
   "metadata": {},
   "outputs": [],
   "source": [
    "trainer = torch.optim.SGD(net.parameters(), lr=0.03)"
   ]
  },
  {
   "cell_type": "code",
   "execution_count": 6,
   "id": "f96b092d-02f2-458e-909f-209a810c663d",
   "metadata": {},
   "outputs": [
    {
     "name": "stdout",
     "output_type": "stream",
     "text": [
      "epoch1, loss0.000205\n",
      "epoch2, loss0.000101\n",
      "epoch3, loss0.000101\n"
     ]
    }
   ],
   "source": [
    "num_epochs = 3\n",
    "for epoch in range(num_epochs):\n",
    "    for X, y in data_iter:\n",
    "        l = loss(net(X), y)\n",
    "        trainer.zero_grad()\n",
    "        l.backward()\n",
    "        trainer.step()\n",
    "    l = loss(net(features), labels)\n",
    "    print(f'epoch{epoch+1}, loss{l:f}')"
   ]
  }
 ],
 "metadata": {
  "kernelspec": {
   "display_name": "Python 3 (ipykernel)",
   "language": "python",
   "name": "python3"
  },
  "language_info": {
   "codemirror_mode": {
    "name": "ipython",
    "version": 3
   },
   "file_extension": ".py",
   "mimetype": "text/x-python",
   "name": "python",
   "nbconvert_exporter": "python",
   "pygments_lexer": "ipython3",
   "version": "3.11.10"
  }
 },
 "nbformat": 4,
 "nbformat_minor": 5
}
