{
 "cells": [
  {
   "cell_type": "code",
   "execution_count": 1,
   "id": "a7957cc4-c900-4772-955c-90e81c5071bf",
   "metadata": {},
   "outputs": [],
   "source": [
    "%matplotlib inline\n",
    "import torch\n",
    "import random\n",
    "import matplotlib.pyplot as plt"
   ]
  },
  {
   "cell_type": "code",
   "execution_count": 2,
   "id": "3a1ed552-684e-49f2-83bb-851d1cb325c2",
   "metadata": {},
   "outputs": [],
   "source": [
    "def synthetic_data(w, b, num_examples):\n",
    "    X = torch.normal(0, 1, (num_examples, len(w)))\n",
    "    y = torch.matmul(X, w) + b;\n",
    "    y += torch.normal(0, 0.01, y.shape)\n",
    "    return X, y.reshape((-1,1))\n",
    "\n",
    "true_w = torch.tensor([2, -3.4])\n",
    "true_b = 4.2\n",
    "features, labels = synthetic_data(true_w, true_b, 1000)"
   ]
  },
  {
   "cell_type": "code",
   "execution_count": 3,
   "id": "9680f815-41b3-4643-a95a-557076a3e7c9",
   "metadata": {},
   "outputs": [
    {
     "name": "stdout",
     "output_type": "stream",
     "text": [
      "features: tensor([0.1005, 0.2175]) \n",
      "label: tensor([3.6806])\n"
     ]
    }
   ],
   "source": [
    "print('features:', features[0], '\\nlabel:', labels[0])"
   ]
  },
  {
   "cell_type": "code",
   "execution_count": 4,
   "id": "ab53ffcb-2144-4c5c-8776-d92f72a4198b",
   "metadata": {},
   "outputs": [
    {
     "data": {
      "image/png": "[encoded data removed]",
      "text/plain": [
       "<Figure size 480x480 with 1 Axes>"
      ]
     },
     "metadata": {},
     "output_type": "display_data"
    }
   ],
   "source": [
    "plt.figure(figsize=(6,6), dpi=80)\n",
    "plt.scatter(features[:, 1].numpy(), labels.numpy())\n",
    "plt.show()"
   ]
  },
  {
   "cell_type": "code",
   "execution_count": 11,
   "id": "a78c5cc4-02be-40b2-ac3f-30efd288613d",
   "metadata": {},
   "outputs": [
    {
     "name": "stdout",
     "output_type": "stream",
     "text": [
      "tensor([[-0.8828,  0.1961],\n",
      "        [-1.4119, -0.6937],\n",
      "        [-1.2623, -0.0198],\n",
      "        [-0.7296,  0.5456],\n",
      "        [ 1.3853, -1.6703],\n",
      "        [ 0.2527,  0.5708],\n",
      "        [-0.7537, -2.4508],\n",
      "        [ 0.9677,  0.4197],\n",
      "        [ 0.0391,  0.1723],\n",
      "        [ 0.1623,  0.0356]]) \n",
      " tensor([[ 1.7675],\n",
      "        [ 3.7230],\n",
      "        [ 1.7493],\n",
      "        [ 0.8918],\n",
      "        [12.6451],\n",
      "        [ 2.7717],\n",
      "        [11.0293],\n",
      "        [ 4.7091],\n",
      "        [ 3.6862],\n",
      "        [ 4.4075]])\n",
      "torch.Size([10, 2]) torch.Size([10, 1])\n"
     ]
    }
   ],
   "source": [
    "def data_iter(batch_size, X, y):\n",
    "    num_examples = len(X)\n",
    "    indices = list(range(num_examples))\n",
    "    # 打乱顺序\n",
    "    random.shuffle(indices)\n",
    "    for i in range(0,num_examples, batch_size):\n",
    "        batch_indices =  indices[i:min(i+batch_size, num_examples)]\n",
    "        yield X[batch_indices], y[batch_indices]\n",
    "\n",
    "batch_size = 10\n",
    "for X, y in data_iter(batch_size, features, labels):\n",
    "    print(X, '\\n', y)\n",
    "    print(X.shape, y.shape)\n",
    "    break;"
   ]
  },
  {
   "cell_type": "code",
   "execution_count": 6,
   "id": "0aca438d-ebf3-4af1-b96b-6bfc6c348818",
   "metadata": {},
   "outputs": [],
   "source": [
    "w = torch.normal(0, 0.01, (2,1), requires_grad=True)\n",
    "b = torch.zeros(1, requires_grad=True)"
   ]
  },
  {
   "cell_type": "code",
   "execution_count": 7,
   "id": "529489d8-0905-46e9-aa60-5e116388d02c",
   "metadata": {},
   "outputs": [],
   "source": [
    "def linearReg(X, w, b):\n",
    "    return torch.matmul(X, w) + b"
   ]
  },
  {
   "cell_type": "code",
   "execution_count": 8,
   "id": "686132fd-9458-43a2-af15-5a59f802d545",
   "metadata": {},
   "outputs": [],
   "source": [
    "def lossLinear(y, y_hat):\n",
    "    return ((y-y_hat.reshape(y.shape))**2 / 2).sum()"
   ]
  },
  {
   "cell_type": "code",
   "execution_count": 9,
   "id": "bce591b9-f59e-4251-b04f-4d30f28194b4",
   "metadata": {},
   "outputs": [],
   "source": [
    "def mb_sgd(params, lambda_, batch_size):\n",
    "    with torch.no_grad():\n",
    "        for param in params:\n",
    "            param -= (lambda_ / batch_size) * param.grad\n",
    "            param.grad.zero_()"
   ]
  },
  {
   "cell_type": "code",
   "execution_count": 10,
   "id": "ed8f9cd3-a36a-4c09-8283-7141eb5fc2e6",
   "metadata": {},
   "outputs": [
    {
     "name": "stdout",
     "output_type": "stream",
     "text": [
      " epoch 1, loss 31.297464\n",
      " epoch 2, loss 0.107831\n",
      " epoch 3, loss 0.053913\n"
     ]
    }
   ],
   "source": [
    "num_epochs = 3\n",
    "lambda_ = 0.03\n",
    "net = linearReg\n",
    "loss = lossLinear\n",
    "\n",
    "for epoch in range(num_epochs):\n",
    "    for X, y  in data_iter(batch_size, features, labels):\n",
    "        l = loss(y, net(X, w, b))\n",
    "        l.backward()\n",
    "        mb_sgd([w,b],lambda_,batch_size)\n",
    "    with torch.no_grad():\n",
    "        train_l = loss(labels, net(features,w,b))\n",
    "        print(f' epoch {epoch+1}, loss {train_l.mean():f}')"
   ]
  }
 ],
 "metadata": {
  "kernelspec": {
   "display_name": "Python 3 (ipykernel)",
   "language": "python",
   "name": "python3"
  },
  "language_info": {
   "codemirror_mode": {
    "name": "ipython",
    "version": 3
   },
   "file_extension": ".py",
   "mimetype": "text/x-python",
   "name": "python",
   "nbconvert_exporter": "python",
   "pygments_lexer": "ipython3",
   "version": "3.11.10"
  }
 },
 "nbformat": 4,
 "nbformat_minor": 5
}
